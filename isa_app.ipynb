{
 "cells": [
  {
   "cell_type": "markdown",
   "metadata": {},
   "source": [
    "How it works: \n",
    "\n",
    "This simulation lets you creates an ISA portfolio of 100 to 2000 students right before graduation and tracks monthly payments over time. You are able to input the variables seen below to structure the terms of the ISA program according to a targeted ROI. \n",
    "\n",
    "How are payments decided:\n",
    "\n",
    "Students can occupy 6 different status:\n",
    "    1. Not Graduated\n",
    "    2. Grace Period\n",
    "    3. In Repayment\n",
    "    4. In Deferment\n",
    "    5. In Delinquency\n",
    "    6. End (Term Conditions reached)\n",
    "    \n",
    "Using external data (mainly from the census bureau) to initialize income distributions and rates of delinquency, this simulation will transition students between statuses every month according to their current income, income share (higher income shares will be more likely to be delinquent) as well as their specific ISA term conditions."
   ]
  },
  {
   "cell_type": "code",
   "execution_count": 24,
   "metadata": {},
   "outputs": [],
   "source": [
    "import pandas as pd\n",
    "import numpy as np\n",
    "from datetime import date\n",
    "import matplotlib.pyplot as plt\n",
    "import seaborn as sns\n",
    "import statistics\n",
    "import ipywidgets as widgets\n",
    "from IPython.display import display, clear_output\n",
    "\n",
    "# counter variables\n",
    "num_sim = 1000\n",
    "time_count = 0\n",
    "repayment_per_month = []\n",
    "monthly_payarray = []\n",
    "status_count = []\n",
    "\n",
    "# independent variables\n",
    "num_stu = 0\n",
    "pay_cap = 0\n",
    "pay_terms = 0\n",
    "exp_terms = 0\n",
    "exp_multiple = 0\n",
    "min_dis = 0\n",
    "max_dis = 0\n",
    "min_income = 0\n",
    "income_growth_rate = 0\n",
    "grad_rate_4year = 0\n",
    "total_disbursement = 0\n",
    "\n",
    "# widget layout\n",
    "layout = widgets.Layout(width='400px', height='40px')\n",
    "\n",
    "# widget list\n",
    "\n",
    "output_init = widgets.Output()\n",
    "output_runsim = widgets.Output()\n",
    "\n",
    "numstu_widget = widgets.IntSlider(min=100, max=2000, step=100, description='Students: ', value=1000,\n",
    "                                  readout_format='d', layout=layout)\n",
    "\n",
    "paycap_widget = widgets.FloatSlider(min=1.0, max=2.5, step=0.25, description='PayCap: ', value=2.0,\n",
    "                                    readout_format='.0%', layout=layout)\n",
    "\n",
    "payterms_widget = widgets.IntSlider(min=2, max=12, step=1, description='TermsYrs: ', value=5, layout=layout)\n",
    "\n",
    "expterms_widget = widgets.IntSlider(min=5, max=20, step=1, description='ExpTermsYrs', value=10, layout=layout)\n",
    "\n",
    "mindis_widget = widgets.FloatSlider(min=1000, max=5000, step=1000, description='MinDisb: ', value=2000,\n",
    "                                 readout_format='$', layout=layout)\n",
    "\n",
    "maxdis_widget = widgets.FloatSlider(min=5000, max=25000, step=1000, description='MaxDisb: ', value=20000,\n",
    "                                 readout_format='$', layout=layout)\n",
    "\n",
    "mincome_widget = widgets.IntSlider(min=20000, max=60000, step=5000, description='MinIncome: ', value=30000,\n",
    "                                   readout_format = '$', layout=layout)\n",
    "\n",
    "expm_widget = widgets.FloatSlider(min=1.0, max=2.5, step=0.1, description='TargetROI: ', value=1.5,\n",
    "                                  readout_format='.0%', layout=layout)\n",
    "\n",
    "igr_widget = widgets.FloatSlider(min=0.01, max=0.1, step=0.01, description='IncGrowthR: ', value=0.05,\n",
    "                                 readout_format='.0%', layout=layout)\n",
    "\n",
    "grad_widget = widgets.FloatSlider(min=0.6, max=1.0, step=0.05, description='4YrGrad: ', value=0.7,\n",
    "                                  readout_format='.0%', layout=layout)\n",
    "\n",
    "init_widget = widgets.Button(description='Initialize Variables', disabled=False,\n",
    "                               button_style='success', icon='cog')\n",
    "\n",
    "runsim_widget = widgets.Button(description='Run Simulation', disabled=False,\n",
    "                               button_style='success', icon='play')\n"
   ]
  },
  {
   "cell_type": "code",
   "execution_count": 25,
   "metadata": {},
   "outputs": [],
   "source": [
    "#functions\n",
    "\n",
    "def starting_income(num_students):\n",
    "    my_arr = []\n",
    "    for i in range(num_students):\n",
    "        inc_below_25 = np.random.choice(np.arange(28000, 40000, 1000))\n",
    "        inc_25_to_75 = np.random.choice(np.arange(41000, 68000, 1000))\n",
    "        inc_75_to_95 = np.random.choice(np.arange(69000, 85000, 1000))\n",
    "        inc_95 = np.random.choice(np.arange(86000, 90000, 1000))\n",
    "        my_arr.append(np.random.choice([inc_below_25, inc_25_to_75, inc_75_to_95, inc_95], p=[0.25, 0.5, 0.20, 0.05]))\n",
    "    return my_arr\n",
    "\n",
    "def income_growth(curr_inc, growth_rate):\n",
    "    return curr_inc*(1+growth_rate)\n",
    "\n",
    "def income_share(dis_amt, start_inc, pay_terms, exp_payout_multiple):\n",
    "    inc_arr = []\n",
    "    years = int(pay_terms/12)\n",
    "    inc = start_inc\n",
    "    for i in range(years):\n",
    "        inc_arr.append(inc)\n",
    "        inc = income_growth(inc, income_growth_rate)\n",
    "        \n",
    "    total_inc = np.sum(inc_arr)    \n",
    "    mean_yr_inc = total_inc/years\n",
    "    exp_payout = dis_amt*exp_payout_multiple\n",
    "    \n",
    "    yearly_pay = exp_payout/years\n",
    "    income_sh = yearly_pay/mean_yr_inc\n",
    "    return income_sh\n",
    "\n",
    "def monthly_pay(curr_inc, inc_share):\n",
    "    if curr_inc >= min_income:\n",
    "        return (curr_inc*inc_share)/12\n",
    "    else:\n",
    "        return 0\n",
    "    \n",
    "def income_initialize(df):\n",
    "    for i, row in df.iterrows():\n",
    "        curr_inc_val = 0\n",
    "        if row['Status'] == 1:\n",
    "            curr_inc_val = row['Expected Starting Income']\n",
    "            df.at[i,'Current Income'] = curr_inc_val\n",
    "    return df\n",
    "\n",
    "def yearly_update(time_count, df):\n",
    "    if time_count == 24: # after 2 years, if student hasn't graduated, they are assumed to have dropped out\n",
    "        for i, row in df.iterrows():\n",
    "            if row['Status'] == 0:\n",
    "                df.at[i, 'Status'] = 5\n",
    "    if time_count == 12: # after 1 year, x% chance that a student who hasn't graduated will graduate\n",
    "        for i, row in df.iterrows():\n",
    "            if row['Status'] == 0:\n",
    "                    df.at[i, 'Status'] = np.random.choice([0, 1], p=[0.5, 0.5])\n",
    "    elif(time_count%12) == 0:\n",
    "        for i, row in df.iterrows():\n",
    "            df.at[i, 'Current Income'] = income_growth(row['Current Income'], income_growth_rate)\n",
    "                \n",
    "def grace_update(time_count, df):\n",
    "    if (time_count%6) == 0:\n",
    "        for i, row in df.iterrows():\n",
    "            if row['Status'] == 1:\n",
    "                df.at[i, 'Status'] = 2\n",
    "                df.at[i,'Current Income'] = row['Expected Starting Income']\n",
    "                \n",
    "                \n",
    "def status_update(df):\n",
    "    for i, row in df.iterrows():\n",
    "        if row['Status'] == 5:\n",
    "            pass\n",
    "        else:\n",
    "            mp = round(monthly_pay(row['Current Income'], row['Income Share']))\n",
    "\n",
    "            # income doesn't meet threshold, go to deferment\n",
    "\n",
    "            if mp == 0:\n",
    "                if row['Status'] == 0:\n",
    "                    df.at[i, 'Status'] = 0\n",
    "                elif row['Status'] == 2:\n",
    "                    df.at[i, 'Status'] = 3\n",
    "                elif row['Status'] == 3:\n",
    "                    df.at[i, 'Status'] = 3\n",
    "                elif row['Status'] == 4:\n",
    "                    df.at[i, 'Status'] = 3\n",
    "\n",
    "            if mp != 0 and row['Status'] == 3:\n",
    "                df.at[i, 'Status'] = 2\n",
    "\n",
    "            # meets max owed cap\n",
    "            if row['Pay Terms'] < 1:\n",
    "                df.at[i, 'Status'] = 5\n",
    "            elif row['Max Owed'] < (row['Paid Off'] + mp):\n",
    "                df.at[i, 'Paid Off'] = row['Max Owed']\n",
    "                df.at[i, 'Status'] = 5\n",
    "\n",
    "\n",
    "            # random 2% chance to go into delinquency every month\n",
    "            if row['Status'] == 2:\n",
    "                delinquent = np.random.choice([0, 1], p=[0.05, 0.95])\n",
    "                if delinquent == 0:\n",
    "                    df.at[i, 'Status'] = 4\n",
    "                else:\n",
    "                    df.at[i, 'Paid Off'] += mp\n",
    "                    df.at[i, 'Pay Terms'] -= 1 \n",
    "\n",
    "            # random 50% chance of delinquents to go back into repayment\n",
    "            elif row['Status'] == 4:\n",
    "                non_delinquent = np.random.choice([0, 1], p=[0.5, 0.5])\n",
    "                if non_delinquent == 1:\n",
    "                    df.at[i, 'Status'] = 2\n",
    "                    df.at[i, 'Paid Off'] += mp\n",
    "                    df.at[i, 'Pay Terms'] -= 1\n",
    "                \n",
    "    return df\n",
    "\n"
   ]
  },
  {
   "cell_type": "code",
   "execution_count": 26,
   "metadata": {},
   "outputs": [],
   "source": [
    "# status map: 0=student, 1=graceperiod, 2=repayment, 3=deferment, 4=delinquent, 5=end\n",
    "# simulation functions\n",
    "\n",
    "# samples creation\n",
    "def samples_create():\n",
    "    global total_disbursement\n",
    "    status = np.zeros(num_stu)\n",
    "    income = np.zeros(num_stu)\n",
    "    expected_income = starting_income(num_stu)\n",
    "    dis_amt = np.random.choice(np.arange(min_dis, max_dis, 500), num_stu)\n",
    "    pay_terms_arr = np.full(num_stu, pay_terms, dtype=int)\n",
    "    income_share_list = []\n",
    "    for i in range(len(expected_income)):\n",
    "        income_share_list.append(income_share(dis_amt[i], expected_income[i], pay_terms_arr[i], exp_multiple))\n",
    "\n",
    "    max_owed = dis_amt*pay_cap\n",
    "    paid_off = np.zeros(num_stu)\n",
    "    students = np.stack((status, income, expected_income, dis_amt, \n",
    "                         max_owed, income_share_list, pay_terms_arr, paid_off), axis=-1)\n",
    "\n",
    "    df = pd.DataFrame(data=students, columns=['Status', 'Current Income', 'Expected Starting Income',\n",
    "                                              'Disbursement Amount', 'Max Owed', 'Income Share', \n",
    "                                              'Pay Terms', 'Paid Off'])\n",
    "\n",
    "    df['Income Share'] = pd.Series([round(val, 4) for val in df['Income Share']], index = df.index)\n",
    "\n",
    "    total_disbursement = df['Disbursement Amount'].sum()\n",
    "    print('\\nTotal Disbursement Amount: ', total_disbursement)\n",
    "    print(\"Months Passed :\", time_count)\n",
    "    return df\n",
    "\n",
    "\n",
    "# initial graduation update\n",
    "def graduate(df):\n",
    "    df['Status'] = np.transpose(np.random.choice([0, 1], num_stu, p=[1-grad_rate_4year, grad_rate_4year]))\n",
    "    #sns.countplot(df['Status'])\n",
    "    df = income_initialize(df)\n",
    "    return df\n",
    "\n",
    "# after grace period\n",
    "def grace_period(df):\n",
    "    global time_count\n",
    "    for i in range(6):\n",
    "        time_count += 1\n",
    "        repayment_per_month.append(df['Paid Off'].sum())\n",
    "\n",
    "    for i, row in df.iterrows():\n",
    "        if row['Status'] == 1:\n",
    "            inc_owed = monthly_pay(row['Current Income'], row['Income Share'])\n",
    "            if inc_owed == 0:\n",
    "                df.at[i, 'Status'] = 3\n",
    "            else:\n",
    "                df.at[i, 'Status'] = 2\n",
    "\n",
    "    print(\"Months Passed : \", time_count)\n",
    "    print(\"Repayments Array : \", repayment_per_month)\n",
    "    #sns.countplot(df['Status'])\n",
    "    return df\n",
    "\n",
    "\n",
    "# simulate\n",
    "def simulate(df):\n",
    "    global repayment_per_month\n",
    "    global time_count\n",
    "    global status_count\n",
    "    for i in range(exp_terms):\n",
    "        yearly_array = []\n",
    "        for j in range(12):\n",
    "            time_count += 1\n",
    "            grace_update(time_count, df)\n",
    "            yearly_update(time_count, df)\n",
    "            df = status_update(df)\n",
    "\n",
    "\n",
    "            #for i, row in df.iterrows():\n",
    "            #   inc_owed = round(monthly_pay(row['Current Income'], row['Income Share']))\n",
    "            #   if row['Status'] == 1:\n",
    "            #       if inc_owed == 0:\n",
    "            #           df.at[i, 'Status'] = 3\n",
    "            #       else:\n",
    "            #           df.at[i, 'Status'] = 2\n",
    "            #   if row['Status'] == 2:\n",
    "            #       df.at[i, 'Paid Off'] += inc_owed\n",
    "\n",
    "            repayment_per_month.append(round(df['Paid Off'].sum()))\n",
    "            \n",
    "        for k in range(time_count-13, time_count-1):\n",
    "            temp = repayment_per_month[k+1] - repayment_per_month[k]\n",
    "            yearly_array.append(temp)\n",
    "        print(\"\\nMonths Passed: \", time_count)\n",
    "        print(\"Repayments Array: \", yearly_array)\n",
    "        status_count.append(df['Status'].value_counts())\n",
    "\n",
    "    #sns.countplot(df['Status'])\n",
    "    #print('\\n', status_count)\n",
    "    return df"
   ]
  },
  {
   "cell_type": "code",
   "execution_count": 27,
   "metadata": {},
   "outputs": [],
   "source": [
    "# plotting functions\n",
    "\n",
    "def plot_returns():\n",
    "    roi = (repayment_per_month/total_disbursement)\n",
    "    roi -= 1\n",
    "    plt.plot(np.arange(time_count), roi)\n",
    "    plt.xlabel('Months')\n",
    "    plt.ylabel('Total Return on Investment')\n",
    "    plt.show()\n",
    "    \n",
    "def plot_monthly_payments():\n",
    "    global monthly_payarray\n",
    "    for i in range(len(repayment_per_month)-1):\n",
    "        temp = repayment_per_month[i+1] - repayment_per_month[i]\n",
    "        monthly_payarray.append(temp)\n",
    "\n",
    "    plt.plot(np.arange(time_count-1), monthly_payarray)\n",
    "    plt.xlabel('Months')\n",
    "    plt.ylabel('Dollars paid back')\n",
    "    plt.show()\n",
    "    \n",
    "def plot_yearly_payments():\n",
    "    yield_arr = monthly_payarray/total_disbursement\n",
    "    year_yield = np.add.reduceat(yield_arr, np.arange(0, len(yield_arr), 12))\n",
    "    plt.plot(np.arange(1, (time_count/12)+1), year_yield)\n",
    "    plt.xlabel('Year')\n",
    "    plt.ylabel('Coupon Rate')\n",
    "    plt.show()\n",
    "    print('Coupon Rate per year: ',[f'{i*100:.1f}%' for i in year_yield])"
   ]
  },
  {
   "cell_type": "code",
   "execution_count": 28,
   "metadata": {},
   "outputs": [],
   "source": [
    "# widget functions\n",
    "def initfunc(b=None):\n",
    "    global num_stu\n",
    "    global pay_cap\n",
    "    global pay_terms\n",
    "    global exp_terms\n",
    "    global exp_multiple\n",
    "    global min_income\n",
    "    global min_dis\n",
    "    global max_dis\n",
    "    global income_growth_rate\n",
    "    global grad_rate_4year\n",
    "    num_stu = numstu_widget.value\n",
    "    pay_cap = paycap_widget.value\n",
    "    pay_terms = payterms_widget.value*12\n",
    "    exp_terms = expterms_widget.value\n",
    "    min_dis = mindis_widget.value\n",
    "    max_dis = maxdis_widget.value\n",
    "    exp_multiple = expm_widget.value\n",
    "    min_income = mincome_widget.value\n",
    "    income_growth_rate = igr_widget.value\n",
    "    grad_rate_4year = grad_widget.value\n",
    "    with output_init:\n",
    "        print('\\nINPUTS SELECTED')\n",
    "        print('\\nNumber of Students: ', num_stu)\n",
    "        print('\\nDisbursement Range: ', '${:,.0f}'.format(min_dis),'-', '{:,.0f}'.format(max_dis))\n",
    "        print('\\nPayment Cap: ', '{:.0%}'.format(pay_cap))\n",
    "        print('\\nNumber of Pay Terms: ', pay_terms/12, 'Years')\n",
    "        print('\\nExpiration Length: ', exp_terms, 'Years')\n",
    "        print('\\nTarget ROI: ', '{:.2%}'.format(exp_multiple))\n",
    "        print('\\nMinimum Income Threshold: ', '${:,.2f}'.format(min_income))\n",
    "        print('\\nIncome Growth Rate: ', '{:.2%}'.format(income_growth_rate))\n",
    "        print('\\n4-Year Graduation Rate: ', '{:.0%}'.format(grad_rate_4year))\n",
    "        display(runsim_widget)\n",
    "\n",
    "\n",
    "def runsim(b=None):\n",
    "    with output_runsim:\n",
    "        sim_df = samples_create()\n",
    "        print('\\n\\nInitializing DataFrame of %d Students' %num_stu)\n",
    "        display(sim_df.head(10))\n",
    "        sim_df = graduate(sim_df)\n",
    "        sim_df = grace_period(sim_df)\n",
    "        print('\\n\\nStudent DataFrame with Income Initialization')\n",
    "        display(sim_df.head(10))\n",
    "        sim_df = simulate(sim_df)\n",
    "        print('\\n\\nFinal Dataframe')\n",
    "        display(sim_df.head(10))\n",
    "        print('Total Returns: ', repayment_per_month[-1])\n",
    "        print('Return on Investment: ', '{:.2%}'.format((repayment_per_month[-1]/total_disbursement)))\n",
    "        print('\\n Monthly Payments Graph')\n",
    "        plot_monthly_payments()\n",
    "        print('\\n Yearly Payments Graph')\n",
    "        plot_yearly_payments()"
   ]
  },
  {
   "cell_type": "code",
   "execution_count": 29,
   "metadata": {
    "scrolled": false
   },
   "outputs": [
    {
     "data": {
      "application/vnd.jupyter.widget-view+json": {
       "model_id": "6176ca3b157e4086b005a60de8d2dd6a",
       "version_major": 2,
       "version_minor": 0
      },
      "text/plain": [
       "IntSlider(value=1000, description='Students: ', layout=Layout(height='40px', width='400px'), max=2000, min=100…"
      ]
     },
     "metadata": {},
     "output_type": "display_data"
    },
    {
     "data": {
      "application/vnd.jupyter.widget-view+json": {
       "model_id": "874bd08df9a84b019a3b21e38d7e5564",
       "version_major": 2,
       "version_minor": 0
      },
      "text/plain": [
       "FloatSlider(value=2.0, description='PayCap: ', layout=Layout(height='40px', width='400px'), max=2.5, min=1.0, …"
      ]
     },
     "metadata": {},
     "output_type": "display_data"
    },
    {
     "data": {
      "application/vnd.jupyter.widget-view+json": {
       "model_id": "b5f9708877984e469d2844a43c84bdbe",
       "version_major": 2,
       "version_minor": 0
      },
      "text/plain": [
       "IntSlider(value=5, description='TermsYrs: ', layout=Layout(height='40px', width='400px'), max=12, min=2)"
      ]
     },
     "metadata": {},
     "output_type": "display_data"
    },
    {
     "data": {
      "application/vnd.jupyter.widget-view+json": {
       "model_id": "a37b507080a744ebb513b5ee45b4cc7a",
       "version_major": 2,
       "version_minor": 0
      },
      "text/plain": [
       "IntSlider(value=10, description='ExpTermsYrs', layout=Layout(height='40px', width='400px'), max=20, min=5)"
      ]
     },
     "metadata": {},
     "output_type": "display_data"
    },
    {
     "data": {
      "application/vnd.jupyter.widget-view+json": {
       "model_id": "562dcb5392e2405ea96d178ef1dfb1c9",
       "version_major": 2,
       "version_minor": 0
      },
      "text/plain": [
       "IntSlider(value=30000, description='MinIncome: ', layout=Layout(height='40px', width='400px'), max=60000, min=…"
      ]
     },
     "metadata": {},
     "output_type": "display_data"
    },
    {
     "data": {
      "application/vnd.jupyter.widget-view+json": {
       "model_id": "3515af8d1da646c5be1faf6df47fab2c",
       "version_major": 2,
       "version_minor": 0
      },
      "text/plain": [
       "FloatSlider(value=2000.0, description='MinDisb: ', layout=Layout(height='40px', width='400px'), max=5000.0, mi…"
      ]
     },
     "metadata": {},
     "output_type": "display_data"
    },
    {
     "data": {
      "application/vnd.jupyter.widget-view+json": {
       "model_id": "61e9dd8a0d8a471e944a1fd4c8e97a78",
       "version_major": 2,
       "version_minor": 0
      },
      "text/plain": [
       "FloatSlider(value=20000.0, description='MaxDisb: ', layout=Layout(height='40px', width='400px'), max=25000.0, …"
      ]
     },
     "metadata": {},
     "output_type": "display_data"
    },
    {
     "data": {
      "application/vnd.jupyter.widget-view+json": {
       "model_id": "ecd8e6e0cacf41a3875a425d5cbe7824",
       "version_major": 2,
       "version_minor": 0
      },
      "text/plain": [
       "FloatSlider(value=1.5, description='TargetROI: ', layout=Layout(height='40px', width='400px'), max=2.5, min=1.…"
      ]
     },
     "metadata": {},
     "output_type": "display_data"
    },
    {
     "data": {
      "application/vnd.jupyter.widget-view+json": {
       "model_id": "7e725455584a404ca383eb3dc98084c7",
       "version_major": 2,
       "version_minor": 0
      },
      "text/plain": [
       "FloatSlider(value=0.05, description='IncGrowthR: ', layout=Layout(height='40px', width='400px'), max=0.1, min=…"
      ]
     },
     "metadata": {},
     "output_type": "display_data"
    },
    {
     "data": {
      "application/vnd.jupyter.widget-view+json": {
       "model_id": "12a2ee983917473194e311be47f4b078",
       "version_major": 2,
       "version_minor": 0
      },
      "text/plain": [
       "FloatSlider(value=0.7, description='4YrGrad: ', layout=Layout(height='40px', width='400px'), max=1.0, min=0.6,…"
      ]
     },
     "metadata": {},
     "output_type": "display_data"
    },
    {
     "data": {
      "application/vnd.jupyter.widget-view+json": {
       "model_id": "24a0166734a84c9fac5befe20e686a72",
       "version_major": 2,
       "version_minor": 0
      },
      "text/plain": [
       "Button(button_style='success', description='Initialize Variables', icon='cog', style=ButtonStyle())"
      ]
     },
     "metadata": {},
     "output_type": "display_data"
    },
    {
     "data": {
      "application/vnd.jupyter.widget-view+json": {
       "model_id": "c1a947b5c8b54880bab039ce126db8ef",
       "version_major": 2,
       "version_minor": 0
      },
      "text/plain": [
       "Output()"
      ]
     },
     "metadata": {},
     "output_type": "display_data"
    },
    {
     "data": {
      "application/vnd.jupyter.widget-view+json": {
       "model_id": "343fbdbb0f59452b925c91dc26b3a990",
       "version_major": 2,
       "version_minor": 0
      },
      "text/plain": [
       "Output()"
      ]
     },
     "metadata": {},
     "output_type": "display_data"
    }
   ],
   "source": [
    "# display widgets\n",
    "\n",
    "display(numstu_widget, \n",
    "        paycap_widget, \n",
    "        payterms_widget,\n",
    "        expterms_widget,\n",
    "        mincome_widget,\n",
    "        mindis_widget,\n",
    "        maxdis_widget,\n",
    "        expm_widget, \n",
    "        igr_widget, \n",
    "        grad_widget,\n",
    "        init_widget) \n",
    "\n",
    "init_widget.on_click(initfunc)\n",
    "display(output_init)\n",
    "runsim_widget.on_click(runsim)\n",
    "display(output_runsim)"
   ]
  },
  {
   "cell_type": "code",
   "execution_count": null,
   "metadata": {},
   "outputs": [],
   "source": []
  },
  {
   "cell_type": "code",
   "execution_count": null,
   "metadata": {},
   "outputs": [],
   "source": []
  }
 ],
 "metadata": {
  "kernelspec": {
   "display_name": "Python 3",
   "language": "python",
   "name": "python3"
  },
  "language_info": {
   "codemirror_mode": {
    "name": "ipython",
    "version": 3
   },
   "file_extension": ".py",
   "mimetype": "text/x-python",
   "name": "python",
   "nbconvert_exporter": "python",
   "pygments_lexer": "ipython3",
   "version": "3.7.6"
  }
 },
 "nbformat": 4,
 "nbformat_minor": 4
}
